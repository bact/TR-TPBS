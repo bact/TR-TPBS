{
  "nbformat": 4,
  "nbformat_minor": 0,
  "metadata": {
    "colab": {
      "name": "exploration.ipynb",
      "provenance": [],
      "collapsed_sections": [],
      "toc_visible": true
    },
    "kernelspec": {
      "name": "python3",
      "display_name": "Python 3"
    }
  },
  "cells": [
    {
      "cell_type": "code",
      "metadata": {
        "id": "x789RVTUKD3T",
        "colab_type": "code",
        "colab": {}
      },
      "source": [
        "!pip install -q pythainlp\n",
        "import pandas as pd\n",
        "from sklearn.feature_extraction.text import CountVectorizer\n",
        "from pythainlp import word_tokenize\n",
        "from pythainlp import sent_tokenize\n",
        "import os\n",
        "from tqdm.notebook import tqdm\n",
        "import matplotlib\n",
        "import matplotlib.pyplot as plt\n",
        "import numpy as np\n",
        "plt.rcParams[\"font.family\"] = \"serif\""
      ],
      "execution_count": null,
      "outputs": []
    },
    {
      "cell_type": "code",
      "metadata": {
        "id": "zVkbl9ScKM6i",
        "colab_type": "code",
        "colab": {}
      },
      "source": [
        "df_trtpbs = pd.read_csv('/content/drive/My Drive/Final_Datasets/tr-tpbs.csv')\n",
        "df_tr = pd.read_csv('/content/drive/My Drive/Final_Datasets/additional-datasets/thairath-222.csv')\n",
        "df_tpbs = pd.read_csv('/content/drive/My Drive/Final_Datasets/additional-datasets/thaiPBS-111k.csv')\n",
        "df_th2en = pd.read_csv('/content/drive/My Drive/Final_Datasets/TH-CLS-Corpus/trainset_th2en.csv')"
      ],
      "execution_count": null,
      "outputs": []
    },
    {
      "cell_type": "markdown",
      "metadata": {
        "id": "MDBL2NJKKbdw",
        "colab_type": "text"
      },
      "source": [
        "# The Size Comparision of Datasets"
      ]
    },
    {
      "cell_type": "code",
      "metadata": {
        "id": "vGJCDbD8Kd1t",
        "colab_type": "code",
        "colab": {
          "base_uri": "https://localhost:8080/",
          "height": 331
        },
        "outputId": "fd85fb68-408d-4b32-a8cc-e2e28d475b22"
      },
      "source": [
        "objects = ('ThaiPBS-111K','Thairath-222K', 'TR-TPBS')\n",
        "y_pos = np.arange(len(objects))\n",
        "datasets_size = [len(df_tpbs), len(df_tr), len(df_trtpbs)]\n",
        "plt.bar(y_pos, datasets_size, align='center', alpha=1, width=0.4)\n",
        "plt.xticks(y_pos, objects)\n",
        "plt.ylabel('No. of Articles')\n",
        "plt.title('The Size Comparision of Datasets')\n",
        "plt.show()\n",
        "\n",
        "print(\"ThaiPBS-111k  contains \", len(df_tpbs), \" news\")\n",
        "print(\"Thairath-222k contains \", len(df_tr), \" news\")\n",
        "print(\"TR-TPBS       contains \", len(df_trtpbs), \" news\")"
      ],
      "execution_count": 95,
      "outputs": [
        {
          "output_type": "display_data",
          "data": {
            "image/png": "[encoded data removed]",
            "text/plain": [
              "<Figure size 432x288 with 1 Axes>"
            ]
          },
          "metadata": {
            "tags": [],
            "needs_background": "light"
          }
        },
        {
          "output_type": "stream",
          "text": [
            "ThaiPBS-111k  contains  111614  news\n",
            "Thairath-222k contains  222553  news\n",
            "TR-TPBS       contains  310926  news\n"
          ],
          "name": "stdout"
        }
      ]
    },
    {
      "cell_type": "markdown",
      "metadata": {
        "id": "bNoDBCwkNcQ8",
        "colab_type": "text"
      },
      "source": [
        "#Elements (Columns) Contained in each Dataset"
      ]
    },
    {
      "cell_type": "code",
      "metadata": {
        "id": "RJjSYtH_NQAH",
        "colab_type": "code",
        "colab": {
          "base_uri": "https://localhost:8080/",
          "height": 165
        },
        "outputId": "fe47d2c6-c000-4f9e-9d34-1feab3d99ff4"
      },
      "source": [
        "print('TR-TPBS')\n",
        "print('Number of Aritcles: ', len(df_trtpbs))\n",
        "df_trtpbs.head(1)"
      ],
      "execution_count": null,
      "outputs": [
        {
          "output_type": "stream",
          "text": [
            "TR-TPBS\n",
            "Number of Aritcles:  310926\n"
          ],
          "name": "stdout"
        },
        {
          "output_type": "execute_result",
          "data": {
            "text/html": [
              "<div>\n",
              "<style scoped>\n",
              "    .dataframe tbody tr th:only-of-type {\n",
              "        vertical-align: middle;\n",
              "    }\n",
              "\n",
              "    .dataframe tbody tr th {\n",
              "        vertical-align: top;\n",
              "    }\n",
              "\n",
              "    .dataframe thead th {\n",
              "        text-align: right;\n",
              "    }\n",
              "</style>\n",
              "<table border=\"1\" class=\"dataframe\">\n",
              "  <thead>\n",
              "    <tr style=\"text-align: right;\">\n",
              "      <th></th>\n",
              "      <th>body</th>\n",
              "      <th>labels</th>\n",
              "      <th>summary</th>\n",
              "      <th>tags</th>\n",
              "      <th>title</th>\n",
              "      <th>url</th>\n",
              "    </tr>\n",
              "  </thead>\n",
              "  <tbody>\n",
              "    <tr>\n",
              "      <th>0</th>\n",
              "      <td>วันนี้ (23 ม.ค. 2559) นายธวัชชัย จิตรภาษ์นันท์...</td>\n",
              "      <td>เศรษฐกิจ</td>\n",
              "      <td>กสทช. เตรียมขอการสนับสนุนงบประมาณจากกองทุน กทป...</td>\n",
              "      <td>ระบบจัดเรตติ้งโทรทัศน์ไทยใหม่,กสทช.,กองทุน กทป...</td>\n",
              "      <td>กสทช.เตรียมของบ กทปส. ปฏิรูปวิจัยเรตติ้งทีวีแบ...</td>\n",
              "      <td>https://news.thaipbs.or.th/content/7496</td>\n",
              "    </tr>\n",
              "  </tbody>\n",
              "</table>\n",
              "</div>"
            ],
            "text/plain": [
              "                                                body  ...                                      url\n",
              "0  วันนี้ (23 ม.ค. 2559) นายธวัชชัย จิตรภาษ์นันท์...  ...  https://news.thaipbs.or.th/content/7496\n",
              "\n",
              "[1 rows x 6 columns]"
            ]
          },
          "metadata": {
            "tags": []
          },
          "execution_count": 8
        }
      ]
    },
    {
      "cell_type": "code",
      "metadata": {
        "id": "vGL-kLPLNf17",
        "colab_type": "code",
        "colab": {
          "base_uri": "https://localhost:8080/",
          "height": 270
        },
        "outputId": "20c1ef01-7435-4e28-ad42-b8ea5956fc8a"
      },
      "source": [
        "print('Thairath-222K')\n",
        "print('Number of Aritcles: ', len(df_tr))\n",
        "df_tr.head(1) "
      ],
      "execution_count": null,
      "outputs": [
        {
          "output_type": "stream",
          "text": [
            "Thairath-222K\n",
            "Number of Aritcles:  222553\n"
          ],
          "name": "stdout"
        },
        {
          "output_type": "execute_result",
          "data": {
            "text/html": [
              "<div>\n",
              "<style scoped>\n",
              "    .dataframe tbody tr th:only-of-type {\n",
              "        vertical-align: middle;\n",
              "    }\n",
              "\n",
              "    .dataframe tbody tr th {\n",
              "        vertical-align: top;\n",
              "    }\n",
              "\n",
              "    .dataframe thead th {\n",
              "        text-align: right;\n",
              "    }\n",
              "</style>\n",
              "<table border=\"1\" class=\"dataframe\">\n",
              "  <thead>\n",
              "    <tr style=\"text-align: right;\">\n",
              "      <th></th>\n",
              "      <th>title</th>\n",
              "      <th>body</th>\n",
              "      <th>summary</th>\n",
              "      <th>type</th>\n",
              "      <th>tags</th>\n",
              "      <th>url</th>\n",
              "      <th>date</th>\n",
              "      <th>title_length</th>\n",
              "      <th>article_length</th>\n",
              "      <th>summary_length</th>\n",
              "      <th>abs_n1</th>\n",
              "      <th>abs_n2</th>\n",
              "      <th>abs_n3</th>\n",
              "      <th>abs_n4</th>\n",
              "      <th>abs_n5</th>\n",
              "    </tr>\n",
              "  </thead>\n",
              "  <tbody>\n",
              "    <tr>\n",
              "      <th>0</th>\n",
              "      <td>โป้งเดียวร่วง \"ฝนพันล้าน\" ต่อยแจ๊คแพ้น็อก 4 มว...</td>\n",
              "      <td>วันที่ 30 พ.ย. 62  ศึกมวยไทยเกียรติเพชร ซูเปอร...</td>\n",
              "      <td>ฝนพันล้าน พี.เค.แสนชัยมวยไทยยิม หมัดหนักเอาเรื...</td>\n",
              "      <td>กีฬา,มวย/MMA</td>\n",
              "      <td>มวยลุมพินี,มวยไทย,ฝนพันล้าน พี.เค.แสนชัยมวยไทย...</td>\n",
              "      <td>https://www.thairath.co.th/sport/boxing-mma/17...</td>\n",
              "      <td>2019-12-01T00:30:00+07:00</td>\n",
              "      <td>16.0</td>\n",
              "      <td>248.0</td>\n",
              "      <td>43.0</td>\n",
              "      <td>20.0</td>\n",
              "      <td>33.333333</td>\n",
              "      <td>41.463415</td>\n",
              "      <td>50.0</td>\n",
              "      <td>58.974359</td>\n",
              "    </tr>\n",
              "  </tbody>\n",
              "</table>\n",
              "</div>"
            ],
            "text/plain": [
              "                                               title  ...     abs_n5\n",
              "0  โป้งเดียวร่วง \"ฝนพันล้าน\" ต่อยแจ๊คแพ้น็อก 4 มว...  ...  58.974359\n",
              "\n",
              "[1 rows x 15 columns]"
            ]
          },
          "metadata": {
            "tags": []
          },
          "execution_count": 9
        }
      ]
    },
    {
      "cell_type": "code",
      "metadata": {
        "id": "Rj4Zi4RwNiZr",
        "colab_type": "code",
        "colab": {
          "base_uri": "https://localhost:8080/",
          "height": 287
        },
        "outputId": "a0f8ba8c-5e16-45d8-cb3d-4e0ab8500efb"
      },
      "source": [
        "print('ThaiPBS-111K')\n",
        "print('Number of Aritcles: ', len(df_tpbs))\n",
        "df_tpbs.head(1)"
      ],
      "execution_count": null,
      "outputs": [
        {
          "output_type": "stream",
          "text": [
            "ThaiPBS-111K\n",
            "Number of Aritcles:  111614\n"
          ],
          "name": "stdout"
        },
        {
          "output_type": "execute_result",
          "data": {
            "text/html": [
              "<div>\n",
              "<style scoped>\n",
              "    .dataframe tbody tr th:only-of-type {\n",
              "        vertical-align: middle;\n",
              "    }\n",
              "\n",
              "    .dataframe tbody tr th {\n",
              "        vertical-align: top;\n",
              "    }\n",
              "\n",
              "    .dataframe thead th {\n",
              "        text-align: right;\n",
              "    }\n",
              "</style>\n",
              "<table border=\"1\" class=\"dataframe\">\n",
              "  <thead>\n",
              "    <tr style=\"text-align: right;\">\n",
              "      <th></th>\n",
              "      <th>title</th>\n",
              "      <th>body</th>\n",
              "      <th>summary</th>\n",
              "      <th>tags</th>\n",
              "      <th>label</th>\n",
              "      <th>url</th>\n",
              "      <th>article_length</th>\n",
              "      <th>summary_length</th>\n",
              "      <th>title_length</th>\n",
              "      <th>abstractedness_n1</th>\n",
              "      <th>abstractedness_n2</th>\n",
              "      <th>abstractedness_n3</th>\n",
              "      <th>abstractedness_n4</th>\n",
              "      <th>abstractedness_n5</th>\n",
              "    </tr>\n",
              "  </thead>\n",
              "  <tbody>\n",
              "    <tr>\n",
              "      <th>0</th>\n",
              "      <td>นักวิจัยออสเตรเลียเผยสาเหตุฉลามโจมตีมนุษย์</td>\n",
              "      <td>นายนาธาน ฮาร์ท หัวหน้าทีมวิจัยจากมหาวิทยาลัยเว...</td>\n",
              "      <td>ทีมนักวิจัยออสเตรเลียศึกษาว่าเหตุใดฉลามถึงจู่...</td>\n",
              "      <td>ฉลาม,นักวิจัย,มนุษย์,ออสเตรเลีย,แมวน้ำ,โจมตี</td>\n",
              "      <td>ต่างประเทศ</td>\n",
              "      <td>https://news.thaipbs.or.th/content/1</td>\n",
              "      <td>148.0</td>\n",
              "      <td>23.0</td>\n",
              "      <td>7.0</td>\n",
              "      <td>4.761905</td>\n",
              "      <td>50.0</td>\n",
              "      <td>66.666667</td>\n",
              "      <td>75.0</td>\n",
              "      <td>84.210526</td>\n",
              "    </tr>\n",
              "  </tbody>\n",
              "</table>\n",
              "</div>"
            ],
            "text/plain": [
              "                                        title  ... abstractedness_n5\n",
              "0  นักวิจัยออสเตรเลียเผยสาเหตุฉลามโจมตีมนุษย์  ...         84.210526\n",
              "\n",
              "[1 rows x 14 columns]"
            ]
          },
          "metadata": {
            "tags": []
          },
          "execution_count": 10
        }
      ]
    },
    {
      "cell_type": "code",
      "metadata": {
        "id": "rnCV5X5fNkBf",
        "colab_type": "code",
        "colab": {
          "base_uri": "https://localhost:8080/",
          "height": 182
        },
        "outputId": "36f4cd30-f9bc-40f6-fcfb-42700b196d09"
      },
      "source": [
        "print('Thai Crosslingual Summarization: Thai to English (TH2EN)')\n",
        "print('Number of Aritcles: ', len(df_th2en))\n",
        "print(\"Column \\'en2th\\' is the back-translation of \\'en_summary\\'\")\n",
        "df_th2en.tail(1)"
      ],
      "execution_count": null,
      "outputs": [
        {
          "output_type": "stream",
          "text": [
            "Thai Crosslingual Summarization: Thai to English (TH2EN)\n",
            "Number of Aritcles:  219336\n",
            "Column 'en2th' is the back-translation of 'en_summary'\n"
          ],
          "name": "stdout"
        },
        {
          "output_type": "execute_result",
          "data": {
            "text/html": [
              "<div>\n",
              "<style scoped>\n",
              "    .dataframe tbody tr th:only-of-type {\n",
              "        vertical-align: middle;\n",
              "    }\n",
              "\n",
              "    .dataframe tbody tr th {\n",
              "        vertical-align: top;\n",
              "    }\n",
              "\n",
              "    .dataframe thead th {\n",
              "        text-align: right;\n",
              "    }\n",
              "</style>\n",
              "<table border=\"1\" class=\"dataframe\">\n",
              "  <thead>\n",
              "    <tr style=\"text-align: right;\">\n",
              "      <th></th>\n",
              "      <th>th_body</th>\n",
              "      <th>th_sum</th>\n",
              "      <th>en_body</th>\n",
              "      <th>en_summary</th>\n",
              "      <th>en2th</th>\n",
              "      <th>url</th>\n",
              "    </tr>\n",
              "  </thead>\n",
              "  <tbody>\n",
              "    <tr>\n",
              "      <th>219335</th>\n",
              "      <td>โนวัค ยอโควิช นักเทนนิสมือ 1 ของโลก จากเซอร์เบ...</td>\n",
              "      <td>โนวัค ยอโควิช กลายเป็นนักเทนนิสคนที่ 16 ของปร...</td>\n",
              "      <td>Novak Yeokowich, the world's No.1 tennis playe...</td>\n",
              "      <td>Novak Djokovic became the 16th tennis player i...</td>\n",
              "      <td>โนวัค ดโจโควิค กลายเป็นนักเทนนิสคนที่ 16 ในประ...</td>\n",
              "      <td>https://news.thaipbs.or.th/content/39635</td>\n",
              "    </tr>\n",
              "  </tbody>\n",
              "</table>\n",
              "</div>"
            ],
            "text/plain": [
              "                                                  th_body  ...                                       url\n",
              "219335  โนวัค ยอโควิช นักเทนนิสมือ 1 ของโลก จากเซอร์เบ...  ...  https://news.thaipbs.or.th/content/39635\n",
              "\n",
              "[1 rows x 6 columns]"
            ]
          },
          "metadata": {
            "tags": []
          },
          "execution_count": 11
        }
      ]
    },
    {
      "cell_type": "markdown",
      "metadata": {
        "id": "5L9LqNNHpByo",
        "colab_type": "text"
      },
      "source": [
        "# Number of Unique Tags and Labels"
      ]
    },
    {
      "cell_type": "code",
      "metadata": {
        "id": "McY8nPIkpfNz",
        "colab_type": "code",
        "colab": {}
      },
      "source": [
        "#tags\n",
        "unique_tags_trtpbs = set()\n",
        "for index, row in tqdm(df_trtpbs.iterrows(), total=df_trtpbs.shape[0]):\n",
        "  if pd.isnull(row['tags']):\n",
        "    continue\n",
        "  tags = row['tags'].split(',')\n",
        "  unique_tags_trtpbs.update(tags)\n",
        "  \n",
        "unique_tags_tpbs = set()\n",
        "for index, row in tqdm(df_tpbs.iterrows(), total=df_tpbs.shape[0]):\n",
        "  if pd.isnull(row['tags']):\n",
        "    continue\n",
        "  tags = row['tags'].split(',')\n",
        "  unique_tags_tpbs.update(tags)\n",
        "\n",
        "unique_tags_df_tr = set()\n",
        "for index, row in tqdm(df_tr.iterrows(), total=df_tr.shape[0]):\n",
        "  if pd.isnull(row['tags']):\n",
        "    continue\n",
        "  tags = row['tags'].split(',')\n",
        "  unique_tags_df_tr.update(tags)\n",
        "\n",
        "#labels\n",
        "unique_type_trtpbs = set()\n",
        "for index, row in tqdm(df_trtpbs.iterrows(), total=df_trtpbs.shape[0]):\n",
        "  if pd.isnull(row['labels']):\n",
        "    continue\n",
        "  type_ = row['labels'].split(',')\n",
        "  unique_type_trtpbs.update(type_)\n",
        "\n",
        "unique_type_df_tr = set()\n",
        "for index, row in tqdm(df_tr.iterrows(), total=df_tr.shape[0]):\n",
        "  if pd.isnull(row['type']):\n",
        "    continue\n",
        "  type_ = row['type'].split(',')\n",
        "  unique_type_df_tr.update(type_)\n",
        "\n",
        "unique_type_tpbs = set()\n",
        "for index, row in tqdm(df_tpbs.iterrows(), total=df_tpbs.shape[0]):\n",
        "  if pd.isnull(row['label']):\n",
        "    continue\n",
        "  type_ = row['label'].split(',')\n",
        "  unique_type_tpbs.update(type_)"
      ],
      "execution_count": null,
      "outputs": []
    },
    {
      "cell_type": "code",
      "metadata": {
        "id": "KymR48ng2oHD",
        "colab_type": "code",
        "colab": {
          "base_uri": "https://localhost:8080/",
          "height": 348
        },
        "outputId": "3d74da8e-f3d4-47b0-9bfa-e217793b5ea3"
      },
      "source": [
        "fig, (ax1, ax2) = plt.subplots(1, 2, figsize=(12,4))\n",
        "fig.subplots_adjust(wspace=0.3)\n",
        "#tabels\n",
        "objects = ('ThaiPBS-111K','Thairath-222K', 'TR-TPBS')\n",
        "y_pos = np.arange(len(objects))\n",
        "datasets_size = [len(unique_type_tpbs), len(unique_type_df_tr), len(unique_type_trtpbs)]\n",
        "ax1.bar(objects, datasets_size, align='center', alpha=1, width=0.3, color=\"blue\")\n",
        "ax1.set_title('The Number of Unique Labels Comparison')\n",
        "#tags\n",
        "objects2 = ('ThaiPBS-111K','Thairath-222K', 'TR-TPBS')\n",
        "y_pos2 = np.arange(len(objects2))\n",
        "datasets_size2 = [len(unique_tags_tpbs), len(unique_tags_df_tr), len(unique_tags_trtpbs)]\n",
        "ax2.bar(objects2, datasets_size2, align='center', alpha=1, width=0.3, color='pink')\n",
        "ax2.set_title('The Comparison of Number of Unique Tags')\n",
        "plt.show()\n",
        "print()\n",
        "print(\"ThaiPBS-111K   contains\", len(unique_type_tpbs), \"labels and \", len(unique_tags_tpbs), \"tags\")\n",
        "print(\"Thairath-222K  contains\", len(unique_type_df_tr), \"labels and \", len(unique_tags_df_tr), \"tags\")\n",
        "print(\"TR-TPBS        contains\", len(unique_type_trtpbs), \"labels and \", len(unique_tags_trtpbs), \"tags\")"
      ],
      "execution_count": 129,
      "outputs": [
        {
          "output_type": "display_data",
          "data": {
            "image/png": "[encoded data removed]",
            "text/plain": [
              "<Figure size 864x288 with 2 Axes>"
            ]
          },
          "metadata": {
            "tags": [],
            "needs_background": "light"
          }
        },
        {
          "output_type": "stream",
          "text": [
            "\n",
            "ThaiPBS-111K   contains 16 labels and  101456 tags\n",
            "Thairath-222K  contains 40 labels and  445367 tags\n",
            "TR-TPBS        contains 49 labels and  510689 tags\n"
          ],
          "name": "stdout"
        }
      ]
    },
    {
      "cell_type": "code",
      "metadata": {
        "id": "XBsYVC4KwADl",
        "colab_type": "code",
        "colab": {
          "base_uri": "https://localhost:8080/",
          "height": 187
        },
        "outputId": "48272240-3e30-4c5a-f8d9-f4246f0644ce"
      },
      "source": [
        "## Examples of news-labels in TR-TPBS\n",
        "for x in list(unique_type_trtpbs)[:10]:\n",
        "  print(x)"
      ],
      "execution_count": 131,
      "outputs": [
        {
          "output_type": "stream",
          "text": [
            "ฟุตซอล\n",
            "ข่าวบันเทิง\n",
            "ไลฟ์\n",
            "ไทยพีบีเอส อินไซส์\n",
            "ฟุตบอลโลก\n",
            "เลือกตั้ง\n",
            "ผู้หญิง\n",
            "หวย\n",
            "ต่างประเทศ\n",
            "ทั่วไทย\n"
          ],
          "name": "stdout"
        }
      ]
    },
    {
      "cell_type": "markdown",
      "metadata": {
        "id": "ow1MpCNvoF8Q",
        "colab_type": "text"
      },
      "source": [
        "# Average Number of Tokens (words)"
      ]
    },
    {
      "cell_type": "code",
      "metadata": {
        "id": "qTRrEH9PtBQ5",
        "colab_type": "code",
        "colab": {}
      },
      "source": [
        "trtpbs_title_length = 0\n",
        "trtpbs_article_length = 0\n",
        "trtpbs_summary_length = 0\n",
        "\n",
        "for index, row in tqdm(df_trtpbs.iterrows(), total=df_trtpbs.shape[0]):\n",
        "  trtpbs_title_length += len(word_tokenize(row['title'], keep_whitespace=False))\n",
        "  trtpbs_article_length += len(word_tokenize(row['body'], keep_whitespace=False))\n",
        "  trtpbs_summary_length += len(word_tokenize(row['summary'], keep_whitespace=False))"
      ],
      "execution_count": null,
      "outputs": []
    },
    {
      "cell_type": "code",
      "metadata": {
        "id": "yn2XgSDWvQ0X",
        "colab_type": "code",
        "colab": {}
      },
      "source": [
        "# TR-TPBS\n",
        "avg_trtpbs_title_length = trtpbs_title_length/len(df_trtpbs)\n",
        "avg_trtpbs_article_length = trtpbs_article_length/len(df_trtpbs)\n",
        "avg_trtpbs_summary_length = trtpbs_summary_length/len(df_trtpbs)\n",
        "\n",
        "# Thairath-222k\n",
        "avg_tr_tile_length = df_tr['title_length'].mean()\n",
        "avg_tr_article_length = df_tr['article_length'].mean()\n",
        "avg_tr_summary_length = df_tr['summary_length'].mean()\n",
        "\n",
        "# ThaiPBS-111k\n",
        "avg_tpbs_tile_length = df_tpbs['title_length'].mean()\n",
        "avg_tpbs_article_length = df_tpbs['article_length'].mean()\n",
        "avg_tpbs_summary_length = df_tpbs['summary_length'].mean()"
      ],
      "execution_count": null,
      "outputs": []
    },
    {
      "cell_type": "code",
      "metadata": {
        "id": "C4oKOiXMCKiu",
        "colab_type": "code",
        "colab": {
          "base_uri": "https://localhost:8080/",
          "height": 365
        },
        "outputId": "370cf4bf-f5d3-4400-e18f-c12ab34a7498"
      },
      "source": [
        "# data\n",
        "labels = ['Title',  'Summary', 'Article']\n",
        "tpbs = [ avg_tpbs_tile_length, avg_tpbs_summary_length, avg_tpbs_article_length]\n",
        "tr = [avg_tr_tile_length, avg_tr_summary_length, avg_tr_article_length]\n",
        "tr_tpbs = [avg_trtpbs_title_length, avg_trtpbs_summary_length, avg_trtpbs_article_length]\n",
        "x = np.arange(len(labels))\n",
        "width = 0.22 \n",
        "fig, ax = plt.subplots()\n",
        "rects1 = ax.bar(x-width, tpbs, width, label='ThaiPBS-111k', color='#FFFFFF', hatch=\"//\", edgecolor='black')\n",
        "rects2 = ax.bar(x, tr, width, label='Thairath-222k',color='#ececec', hatch=\".\", edgecolor='black' )\n",
        "rects3 = ax.bar(x+width, tr_tpbs, width, label='TR-TPBS', color='#fde3a7', hatch=\"\", edgecolor='black' )\n",
        "ax.set_ylabel('Average Words')\n",
        "ax.set_title('Average Tokens of each Element')\n",
        "ax.set_xticks(x)\n",
        "ax.set_xticklabels(labels)\n",
        "ax.legend()\n",
        "fig.tight_layout()\n",
        "fig1 = plt.gcf()\n",
        "plt.show()\n",
        "\n",
        "print()\n",
        "print(\"TR-TPBS: avg_title \", avg_trtpbs_title_length,\" avg_body \" ,avg_trtpbs_article_length, \" avg_sum \",avg_trtpbs_summary_length)\n",
        "print(\"Thairath: avg_title\", avg_tr_tile_length, \" avg_body \" ,avg_tr_article_length,  \"  avg_sum \",avg_tr_summary_length )\n",
        "print(\"ThaiPBS: avg_title \", avg_tpbs_tile_length,\" avg_body \" , avg_tpbs_article_length,  \" avg_sum \",avg_tpbs_summary_length )"
      ],
      "execution_count": 134,
      "outputs": [
        {
          "output_type": "display_data",
          "data": {
            "image/png": "[encoded data removed]",
            "text/plain": [
              "<Figure size 432x288 with 1 Axes>"
            ]
          },
          "metadata": {
            "tags": [],
            "needs_background": "light"
          }
        },
        {
          "output_type": "stream",
          "text": [
            "\n",
            "TR-TPBS: avg_title  13.432791082122435  avg_body  452.48069315528454  avg_sum  36.43308375626355\n",
            "Thairath: avg_title 13.870848741648057  avg_body  509.9518856182572   avg_sum  35.91944390774332\n",
            "ThaiPBS: avg_title  11.740516422670991  avg_body  254.28273334886305  avg_sum  36.52586593079721\n"
          ],
          "name": "stdout"
        }
      ]
    },
    {
      "cell_type": "markdown",
      "metadata": {
        "id": "TifXtV0RnSBM",
        "colab_type": "text"
      },
      "source": [
        "# Average Number of Sentences & Compression Ratio"
      ]
    },
    {
      "cell_type": "code",
      "metadata": {
        "id": "64nwIAuawaW8",
        "colab_type": "code",
        "colab": {}
      },
      "source": [
        "# tr-tpbs\n",
        "trtpbs_article_sent_length = 0\n",
        "trtpbs_summary_sent_length = 0\n",
        "for index, row in tqdm(df_trtpbs.iterrows(), total=df_trtpbs.shape[0]):\n",
        "  trtpbs_article_sent_length += len(sent_tokenize(row['body']))\n",
        "  trtpbs_summary_sent_length += len(sent_tokenize(row['summary']))\n",
        "# tpbs\n",
        "tr_article_sent_length = 0\n",
        "tr_summary_sent_length = 0\n",
        "for index, row in tqdm(df_tr.iterrows(), total=df_tr.shape[0]):\n",
        "  tr_article_sent_length += len(sent_tokenize(row['body']))\n",
        "  tr_summary_sent_length += len(sent_tokenize(row['summary']))\n",
        "# tr\n",
        "tpbs_article_sent_length = 0\n",
        "tpbs_summary_sent_length = 0\n",
        "for index, row in tqdm(df_tpbs.iterrows(), total=df_tpbs.shape[0]):\n",
        "  tpbs_article_sent_length += len(sent_tokenize(row['body']))\n",
        "  tpbs_summary_sent_length += len(sent_tokenize(row['summary']))\n",
        "\n",
        "avg_trtpbs_article_sent_length = round(trtpbs_article_sent_length/len(df_tpbs), 2)\n",
        "avg_trtpbs_summary_sent_length = round(trtpbs_summary_sent_length/len(df_tpbs), 2)\n",
        "avg_tr_article_sent_length = round(tr_article_sent_length/len(df_tr), 2)\n",
        "avg_tr_summary_sent_length = round(tr_summary_sent_length/len(df_tr), 2)\n",
        "avg_tpbs_article_sent_length = round(tpbs_article_sent_length/len(df_trtpbs), 2)\n",
        "avg_tpbs_summary_sent_length = round(tpbs_summary_sent_length/len(df_trtpbs), 2)"
      ],
      "execution_count": null,
      "outputs": []
    },
    {
      "cell_type": "code",
      "metadata": {
        "id": "pbo4gdybPdxE",
        "colab_type": "code",
        "colab": {
          "base_uri": "https://localhost:8080/",
          "height": 365
        },
        "outputId": "50622c3b-5e32-4088-fc45-a850407bd489"
      },
      "source": [
        "# data\n",
        "labels = ['Summary', 'Article']\n",
        "tpbs = [avg_tpbs_summary_sent_length, avg_tpbs_article_sent_length]\n",
        "tr = [avg_tr_summary_sent_length, avg_tr_article_sent_length]\n",
        "tr_tpbs = [avg_trtpbs_summary_sent_length, avg_trtpbs_article_sent_length]\n",
        "x = np.arange(len(labels))\n",
        "width = 0.22 \n",
        "fig, ax = plt.subplots()\n",
        "rects1 = ax.bar(x-width, tpbs, width, label='ThaiPBS-111k', color='#FFFFFF', hatch=\"//\", edgecolor='black')\n",
        "rects2 = ax.bar(x, tr, width, label='Thairath-222k',color='#ececec', hatch=\".\", edgecolor='black' )\n",
        "rects3 = ax.bar(x+width, tr_tpbs, width, label='TR-TPBS', color='#fde3a7', hatch=\"\", edgecolor='black' )\n",
        "ax.set_ylabel('Average Sentences')\n",
        "ax.set_title('Average Sentences of Article and Summary')\n",
        "ax.set_xticks(x)\n",
        "ax.set_xticklabels(labels)\n",
        "ax.legend()\n",
        "fig.tight_layout()\n",
        "fig1 = plt.gcf()\n",
        "plt.show()\n",
        "\n",
        "print()\n",
        "print(\"TR-TPBS:  avg_sent_body\", avg_trtpbs_article_sent_length, \" avg_sent_sum\", avg_trtpbs_summary_sent_length, \" compression ratio\", round(avg_trtpbs_article_sent_length/ avg_trtpbs_summary_sent_length, 2))\n",
        "print(\"Thairath: avg_sent_body\", avg_tr_article_sent_length, \" avg_sent_sum\", avg_tr_summary_sent_length, \" compression ratio\",  round(avg_tr_article_sent_length/avg_tr_summary_sent_length, 2))\n",
        "print(\"Tpbs:     avg_sent_body\", avg_tpbs_article_sent_length, \"  avg_sent_sum\", avg_tpbs_summary_sent_length, \"  compression ratio\",  round(avg_tpbs_article_sent_length/avg_tpbs_summary_sent_length, 2))"
      ],
      "execution_count": 141,
      "outputs": [
        {
          "output_type": "display_data",
          "data": {
            "image/png": "[encoded data removed]",
            "text/plain": [
              "<Figure size 432x288 with 1 Axes>"
            ]
          },
          "metadata": {
            "tags": [],
            "needs_background": "light"
          }
        },
        {
          "output_type": "stream",
          "text": [
            "\n",
            "TR-TPBS:  avg_sent_body 298.74  avg_sent_sum 27.18  compression ratio 10.99\n",
            "Thairath: avg_sent_body 120.53  avg_sent_sum 10.13  compression ratio 11.9\n",
            "Tpbs:     avg_sent_body 20.47   avg_sent_sum 2.96   compression ratio 6.92\n"
          ],
          "name": "stdout"
        }
      ]
    },
    {
      "cell_type": "markdown",
      "metadata": {
        "id": "ylHFbAfsbSzO",
        "colab_type": "text"
      },
      "source": [
        "# Level of Abstractedness"
      ]
    },
    {
      "cell_type": "code",
      "metadata": {
        "id": "Az8pduD_br2w",
        "colab_type": "code",
        "colab": {
          "base_uri": "https://localhost:8080/",
          "height": 348
        },
        "outputId": "f38125a2-d448-4188-a911-fb4b5a926bff"
      },
      "source": [
        "# data\n",
        "labels = ['1-grams', '2-grams', '3-grams', '4-grams', '5-grams', 'Sentences']\n",
        "trtpbs = [24.53102012,56.69915252,69.68104127,76.32939739,80.20300963,99.82606719]\n",
        "tr = [23.66051313,55.44594339,68.05996836,74.38170649,78.0331832,95.09129881] \n",
        "tpbs = [23.79801516,58.54822143,73.93684608,82.50715153,87.75524999,98.46708886]\n",
        "x = np.arange(len(labels)) \n",
        "width = 0.22  \n",
        "fig, ax = plt.subplots()\n",
        "rects1 = ax.bar(x-width, tpbs, width, label='ThaiPBS-111K', color='#FFFFFF', hatch=\"//\", edgecolor='black')\n",
        "rects2 = ax.bar(x, tr, width, label='Thairath-222K',color='#ececec', hatch=\".\", edgecolor='black' )\n",
        "rects3 = ax.bar(x+width, trtpbs , width, label='TR-TPBS', color='#fde3a7', hatch=\"\", edgecolor='black' )\n",
        "ax.set_ylabel('Proportion of novel n-gram')\n",
        "ax.set_title('Abstractedness Level in each Dataset')\n",
        "ax.set_xticks(x)\n",
        "ax.set_xticklabels(labels)\n",
        "ax.legend()\n",
        "fig.tight_layout()\n",
        "fig1 = plt.gcf()\n",
        "plt.show()\n",
        "\n",
        "print()\n",
        "print(\"\\\"The higher level of abstractedness creates new challenges for the summarization systems \\n as they have to be more creative in generating more novel summaries\\\", according to Koupaee, M., & Wang, W. Y. (2018).\")"
      ],
      "execution_count": 150,
      "outputs": [
        {
          "output_type": "display_data",
          "data": {
            "image/png": "[encoded data removed]",
            "text/plain": [
              "<Figure size 432x288 with 1 Axes>"
            ]
          },
          "metadata": {
            "tags": [],
            "needs_background": "light"
          }
        },
        {
          "output_type": "stream",
          "text": [
            "\n",
            "\"The higher level of abstractedness creates new challenges for the summarization systems \n",
            " as they have to be more creative in generating more novel summaries\", according to Koupaee, M., & Wang, W. Y. (2018).\n"
          ],
          "name": "stdout"
        }
      ]
    }
  ]
}