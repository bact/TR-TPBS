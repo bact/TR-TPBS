{
  "nbformat": 4,
  "nbformat_minor": 0,
  "metadata": {
    "colab": {
      "name": "exploration.ipynb",
      "provenance": []
    },
    "kernelspec": {
      "name": "python3",
      "display_name": "Python 3"
    }
  },
  "cells": [
    {
      "cell_type": "code",
      "metadata": {
        "id": "x789RVTUKD3T",
        "colab_type": "code",
        "colab": {}
      },
      "source": [
        "import pandas as pd\n",
        "import os\n",
        "from tqdm import tqdm_notebook\n",
        "import matplotlib\n",
        "import matplotlib.pyplot as plt\n",
        "import numpy as np\n",
        "plt.rcParams[\"font.family\"] = \"serif\""
      ],
      "execution_count": 1,
      "outputs": []
    },
    {
      "cell_type": "code",
      "metadata": {
        "id": "zVkbl9ScKM6i",
        "colab_type": "code",
        "colab": {}
      },
      "source": [
        "df_trtpbs = pd.read_csv('/content/drive/My Drive/Final_Datasets/tr-tpbs.csv')\n",
        "df_tr = pd.read_csv('/content/drive/My Drive/Final_Datasets/additional-datasets/thairath-222.csv')\n",
        "df_tpbs = pd.read_csv('/content/drive/My Drive/Final_Datasets/additional-datasets/thaiPBS-111k.csv')\n",
        "df_th2en = pd.read_csv('/content/drive/My Drive/Final_Datasets/TH-CLS-Corpus/trainset_th2en.csv')"
      ],
      "execution_count": 2,
      "outputs": []
    },
    {
      "cell_type": "markdown",
      "metadata": {
        "id": "MDBL2NJKKbdw",
        "colab_type": "text"
      },
      "source": [
        "# The Size Comparision of Datasets"
      ]
    },
    {
      "cell_type": "code",
      "metadata": {
        "id": "vGJCDbD8Kd1t",
        "colab_type": "code",
        "colab": {
          "base_uri": "https://localhost:8080/",
          "height": 280
        },
        "outputId": "cd44a4e7-1783-4e68-c26a-8c759d9864e2"
      },
      "source": [
        "objects = ('ThaiPBS-111K','Thairath-222K', 'TR-TPBS')\n",
        "y_pos = np.arange(len(objects))\n",
        "datasets_size = [len(df_tpbs), len(df_tr), len(df_trtpbs)]\n",
        "\n",
        "plt.bar(y_pos, datasets_size, align='center', alpha=1, width=0.4)\n",
        "plt.xticks(y_pos, objects)\n",
        "plt.ylabel('No. of Articles')\n",
        "plt.title('The Size Comparision of Datasets')\n",
        "plt.show()"
      ],
      "execution_count": 3,
      "outputs": [
        {
          "output_type": "display_data",
          "data": {
            "image/png": "[encoded data removed]",
            "text/plain": [
              "<Figure size 432x288 with 1 Axes>"
            ]
          },
          "metadata": {
            "tags": [],
            "needs_background": "light"
          }
        }
      ]
    },
    {
      "cell_type": "markdown",
      "metadata": {
        "id": "bNoDBCwkNcQ8",
        "colab_type": "text"
      },
      "source": [
        "#Elements (Columns) Contained in each Dataset"
      ]
    },
    {
      "cell_type": "code",
      "metadata": {
        "id": "RJjSYtH_NQAH",
        "colab_type": "code",
        "colab": {
          "base_uri": "https://localhost:8080/",
          "height": 165
        },
        "outputId": "058d81f3-8e69-41d7-d876-27be35987fa5"
      },
      "source": [
        "print('TR-TPBS')\n",
        "print('Number of Aritcles: ', len(df_trtpbs))\n",
        "df_trtpbs.head(1)"
      ],
      "execution_count": 4,
      "outputs": [
        {
          "output_type": "stream",
          "text": [
            "TR-TPBS\n",
            "Number of Aritcles:  310926\n"
          ],
          "name": "stdout"
        },
        {
          "output_type": "execute_result",
          "data": {
            "text/html": [
              "<div>\n",
              "<style scoped>\n",
              "    .dataframe tbody tr th:only-of-type {\n",
              "        vertical-align: middle;\n",
              "    }\n",
              "\n",
              "    .dataframe tbody tr th {\n",
              "        vertical-align: top;\n",
              "    }\n",
              "\n",
              "    .dataframe thead th {\n",
              "        text-align: right;\n",
              "    }\n",
              "</style>\n",
              "<table border=\"1\" class=\"dataframe\">\n",
              "  <thead>\n",
              "    <tr style=\"text-align: right;\">\n",
              "      <th></th>\n",
              "      <th>body</th>\n",
              "      <th>labels</th>\n",
              "      <th>summary</th>\n",
              "      <th>tags</th>\n",
              "      <th>title</th>\n",
              "      <th>url</th>\n",
              "    </tr>\n",
              "  </thead>\n",
              "  <tbody>\n",
              "    <tr>\n",
              "      <th>0</th>\n",
              "      <td>วันนี้ (23 ม.ค. 2559) นายธวัชชัย จิตรภาษ์นันท์...</td>\n",
              "      <td>เศรษฐกิจ</td>\n",
              "      <td>กสทช. เตรียมขอการสนับสนุนงบประมาณจากกองทุน กทป...</td>\n",
              "      <td>ระบบจัดเรตติ้งโทรทัศน์ไทยใหม่,กสทช.,กองทุน กทป...</td>\n",
              "      <td>กสทช.เตรียมของบ กทปส. ปฏิรูปวิจัยเรตติ้งทีวีแบ...</td>\n",
              "      <td>https://news.thaipbs.or.th/content/7496</td>\n",
              "    </tr>\n",
              "  </tbody>\n",
              "</table>\n",
              "</div>"
            ],
            "text/plain": [
              "                                                body  ...                                      url\n",
              "0  วันนี้ (23 ม.ค. 2559) นายธวัชชัย จิตรภาษ์นันท์...  ...  https://news.thaipbs.or.th/content/7496\n",
              "\n",
              "[1 rows x 6 columns]"
            ]
          },
          "metadata": {
            "tags": []
          },
          "execution_count": 4
        }
      ]
    },
    {
      "cell_type": "code",
      "metadata": {
        "id": "vGL-kLPLNf17",
        "colab_type": "code",
        "colab": {
          "base_uri": "https://localhost:8080/",
          "height": 287
        },
        "outputId": "c2b21411-6bce-4198-e18b-773abc6c04c5"
      },
      "source": [
        "print('Thairath-222K')\n",
        "print('Number of Aritcles: ', len(df_tr))\n",
        "df_tpbs.head(1) "
      ],
      "execution_count": 5,
      "outputs": [
        {
          "output_type": "stream",
          "text": [
            "Thairath-222K\n",
            "Number of Aritcles:  222553\n"
          ],
          "name": "stdout"
        },
        {
          "output_type": "execute_result",
          "data": {
            "text/html": [
              "<div>\n",
              "<style scoped>\n",
              "    .dataframe tbody tr th:only-of-type {\n",
              "        vertical-align: middle;\n",
              "    }\n",
              "\n",
              "    .dataframe tbody tr th {\n",
              "        vertical-align: top;\n",
              "    }\n",
              "\n",
              "    .dataframe thead th {\n",
              "        text-align: right;\n",
              "    }\n",
              "</style>\n",
              "<table border=\"1\" class=\"dataframe\">\n",
              "  <thead>\n",
              "    <tr style=\"text-align: right;\">\n",
              "      <th></th>\n",
              "      <th>title</th>\n",
              "      <th>body</th>\n",
              "      <th>summary</th>\n",
              "      <th>tags</th>\n",
              "      <th>label</th>\n",
              "      <th>url</th>\n",
              "      <th>article_length</th>\n",
              "      <th>summary_length</th>\n",
              "      <th>title_length</th>\n",
              "      <th>abstractedness_n1</th>\n",
              "      <th>abstractedness_n2</th>\n",
              "      <th>abstractedness_n3</th>\n",
              "      <th>abstractedness_n4</th>\n",
              "      <th>abstractedness_n5</th>\n",
              "    </tr>\n",
              "  </thead>\n",
              "  <tbody>\n",
              "    <tr>\n",
              "      <th>0</th>\n",
              "      <td>นักวิจัยออสเตรเลียเผยสาเหตุฉลามโจมตีมนุษย์</td>\n",
              "      <td>นายนาธาน ฮาร์ท หัวหน้าทีมวิจัยจากมหาวิทยาลัยเว...</td>\n",
              "      <td>ทีมนักวิจัยออสเตรเลียศึกษาว่าเหตุใดฉลามถึงจู่...</td>\n",
              "      <td>ฉลาม,นักวิจัย,มนุษย์,ออสเตรเลีย,แมวน้ำ,โจมตี</td>\n",
              "      <td>ต่างประเทศ</td>\n",
              "      <td>https://news.thaipbs.or.th/content/1</td>\n",
              "      <td>148.0</td>\n",
              "      <td>23.0</td>\n",
              "      <td>7.0</td>\n",
              "      <td>4.761905</td>\n",
              "      <td>50.0</td>\n",
              "      <td>66.666667</td>\n",
              "      <td>75.0</td>\n",
              "      <td>84.210526</td>\n",
              "    </tr>\n",
              "  </tbody>\n",
              "</table>\n",
              "</div>"
            ],
            "text/plain": [
              "                                        title  ... abstractedness_n5\n",
              "0  นักวิจัยออสเตรเลียเผยสาเหตุฉลามโจมตีมนุษย์  ...         84.210526\n",
              "\n",
              "[1 rows x 14 columns]"
            ]
          },
          "metadata": {
            "tags": []
          },
          "execution_count": 5
        }
      ]
    },
    {
      "cell_type": "code",
      "metadata": {
        "id": "Rj4Zi4RwNiZr",
        "colab_type": "code",
        "colab": {
          "base_uri": "https://localhost:8080/",
          "height": 270
        },
        "outputId": "6232d9a1-d285-467b-ceb1-16db98113640"
      },
      "source": [
        "print('ThaiPBS-111K')\n",
        "print('Number of Aritcles: ', len(df_tpbs))\n",
        "df_tr.head(1)"
      ],
      "execution_count": 6,
      "outputs": [
        {
          "output_type": "stream",
          "text": [
            "ThaiPBS-111K\n",
            "Number of Aritcles:  111614\n"
          ],
          "name": "stdout"
        },
        {
          "output_type": "execute_result",
          "data": {
            "text/html": [
              "<div>\n",
              "<style scoped>\n",
              "    .dataframe tbody tr th:only-of-type {\n",
              "        vertical-align: middle;\n",
              "    }\n",
              "\n",
              "    .dataframe tbody tr th {\n",
              "        vertical-align: top;\n",
              "    }\n",
              "\n",
              "    .dataframe thead th {\n",
              "        text-align: right;\n",
              "    }\n",
              "</style>\n",
              "<table border=\"1\" class=\"dataframe\">\n",
              "  <thead>\n",
              "    <tr style=\"text-align: right;\">\n",
              "      <th></th>\n",
              "      <th>title</th>\n",
              "      <th>body</th>\n",
              "      <th>summary</th>\n",
              "      <th>type</th>\n",
              "      <th>tags</th>\n",
              "      <th>url</th>\n",
              "      <th>date</th>\n",
              "      <th>title_length</th>\n",
              "      <th>article_length</th>\n",
              "      <th>summary_length</th>\n",
              "      <th>abs_n1</th>\n",
              "      <th>abs_n2</th>\n",
              "      <th>abs_n3</th>\n",
              "      <th>abs_n4</th>\n",
              "      <th>abs_n5</th>\n",
              "    </tr>\n",
              "  </thead>\n",
              "  <tbody>\n",
              "    <tr>\n",
              "      <th>0</th>\n",
              "      <td>โป้งเดียวร่วง \"ฝนพันล้าน\" ต่อยแจ๊คแพ้น็อก 4 มว...</td>\n",
              "      <td>วันที่ 30 พ.ย. 62  ศึกมวยไทยเกียรติเพชร ซูเปอร...</td>\n",
              "      <td>ฝนพันล้าน พี.เค.แสนชัยมวยไทยยิม หมัดหนักเอาเรื...</td>\n",
              "      <td>กีฬา,มวย/MMA</td>\n",
              "      <td>มวยลุมพินี,มวยไทย,ฝนพันล้าน พี.เค.แสนชัยมวยไทย...</td>\n",
              "      <td>https://www.thairath.co.th/sport/boxing-mma/17...</td>\n",
              "      <td>2019-12-01T00:30:00+07:00</td>\n",
              "      <td>16.0</td>\n",
              "      <td>248.0</td>\n",
              "      <td>43.0</td>\n",
              "      <td>20.0</td>\n",
              "      <td>33.333333</td>\n",
              "      <td>41.463415</td>\n",
              "      <td>50.0</td>\n",
              "      <td>58.974359</td>\n",
              "    </tr>\n",
              "  </tbody>\n",
              "</table>\n",
              "</div>"
            ],
            "text/plain": [
              "                                               title  ...     abs_n5\n",
              "0  โป้งเดียวร่วง \"ฝนพันล้าน\" ต่อยแจ๊คแพ้น็อก 4 มว...  ...  58.974359\n",
              "\n",
              "[1 rows x 15 columns]"
            ]
          },
          "metadata": {
            "tags": []
          },
          "execution_count": 6
        }
      ]
    },
    {
      "cell_type": "code",
      "metadata": {
        "id": "rnCV5X5fNkBf",
        "colab_type": "code",
        "colab": {
          "base_uri": "https://localhost:8080/",
          "height": 182
        },
        "outputId": "aed38578-6528-4e32-ddd3-15dd0bed67c4"
      },
      "source": [
        "print('Thai Crosslingual Summarization: Thai to English (TH2EN)')\n",
        "print('Number of Aritcles: ', len(df_th2en))\n",
        "print(\"Column \\'en2th\\' is the back-translation of \\'en_summary\\'\")\n",
        "df_th2en.tail(1)"
      ],
      "execution_count": 7,
      "outputs": [
        {
          "output_type": "stream",
          "text": [
            "Thai Crosslingual Summarization: Thai to English (TH2EN)\n",
            "Number of Aritcles:  219336\n",
            "Column 'en2th' is the back-translation of 'en_summary'\n"
          ],
          "name": "stdout"
        },
        {
          "output_type": "execute_result",
          "data": {
            "text/html": [
              "<div>\n",
              "<style scoped>\n",
              "    .dataframe tbody tr th:only-of-type {\n",
              "        vertical-align: middle;\n",
              "    }\n",
              "\n",
              "    .dataframe tbody tr th {\n",
              "        vertical-align: top;\n",
              "    }\n",
              "\n",
              "    .dataframe thead th {\n",
              "        text-align: right;\n",
              "    }\n",
              "</style>\n",
              "<table border=\"1\" class=\"dataframe\">\n",
              "  <thead>\n",
              "    <tr style=\"text-align: right;\">\n",
              "      <th></th>\n",
              "      <th>th_body</th>\n",
              "      <th>th_sum</th>\n",
              "      <th>en_body</th>\n",
              "      <th>en_summary</th>\n",
              "      <th>en2th</th>\n",
              "      <th>url</th>\n",
              "    </tr>\n",
              "  </thead>\n",
              "  <tbody>\n",
              "    <tr>\n",
              "      <th>219335</th>\n",
              "      <td>โนวัค ยอโควิช นักเทนนิสมือ 1 ของโลก จากเซอร์เบ...</td>\n",
              "      <td>โนวัค ยอโควิช กลายเป็นนักเทนนิสคนที่ 16 ของปร...</td>\n",
              "      <td>Novak Yeokowich, the world's No.1 tennis playe...</td>\n",
              "      <td>Novak Djokovic became the 16th tennis player i...</td>\n",
              "      <td>โนวัค ดโจโควิค กลายเป็นนักเทนนิสคนที่ 16 ในประ...</td>\n",
              "      <td>https://news.thaipbs.or.th/content/39635</td>\n",
              "    </tr>\n",
              "  </tbody>\n",
              "</table>\n",
              "</div>"
            ],
            "text/plain": [
              "                                                  th_body  ...                                       url\n",
              "219335  โนวัค ยอโควิช นักเทนนิสมือ 1 ของโลก จากเซอร์เบ...  ...  https://news.thaipbs.or.th/content/39635\n",
              "\n",
              "[1 rows x 6 columns]"
            ]
          },
          "metadata": {
            "tags": []
          },
          "execution_count": 7
        }
      ]
    }
  ]
}